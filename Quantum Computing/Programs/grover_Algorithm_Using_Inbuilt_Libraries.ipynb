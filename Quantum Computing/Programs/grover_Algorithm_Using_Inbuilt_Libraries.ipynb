{
 "cells": [
  {
   "cell_type": "code",
   "execution_count": 1,
   "metadata": {},
   "outputs": [],
   "source": [
    "#Note - THIS IS INCOMPLETE. THERE ARE A LOT OF DEPRECATIONS FROM QISKIT. HENCE, IT IS TOUGH TO FIGURE OUT THE CORRECT CODE.\n",
    "\n",
    "from qiskit import *\n",
    "from qiskit_algorithms import Grover, AmplificationProblem\n",
    "from qiskit.circuit.library.phase_oracle import PhaseOracle\n",
    "from qiskit.tools.visualization import plot_histogram\n",
    "from qiskit.exceptions import MissingOptionalLibraryError\n",
    "from qiskit.utils import QuantumInstance\n",
    "%matplotlib inline"
   ]
  },
  {
   "cell_type": "code",
   "execution_count": 2,
   "metadata": {},
   "outputs": [
    {
     "name": "stderr",
     "output_type": "stream",
     "text": [
      "C:\\Users\\Dell\\AppData\\Local\\Temp\\ipykernel_16588\\1216592768.py:2: DeprecationWarning: The class ``qiskit.utils.quantum_instance.QuantumInstance`` is deprecated as of qiskit-terra 0.24.0. It will be removed no earlier than 3 months after the release date. For code migration guidelines, visit https://qisk.it/qi_migration.\n",
      "  qinstance = QuantumInstance(backend=qasm_Simulator, seed_simulator=2, seed_transpiler=2)\n"
     ]
    }
   ],
   "source": [
    "qasm_Simulator = Aer.get_backend('qasm_simulator')\n",
    "qinstance = QuantumInstance(backend=qasm_Simulator, seed_simulator=2, seed_transpiler=2)\n",
    "logical_Expression_String = '((James & Lars) | (Kirk & Rob)) & ~(Lars & Rob)'"
   ]
  },
  {
   "cell_type": "code",
   "execution_count": 3,
   "metadata": {},
   "outputs": [
    {
     "name": "stdout",
     "output_type": "stream",
     "text": [
      "There was an error. The error is:\n",
      "\"The 'tweedledum' library is required to use 'PhaseOracle'. You can install it with 'pip install tweedledum'.\"\n"
     ]
    }
   ],
   "source": [
    "try:\n",
    "    my_Oracle = PhaseOracle(logical_Expression_String)\n",
    "    my_Problem = AmplificationProblem(oracle=my_Oracle, is_good_state=my_Oracle.evaluate_bitstring)\n",
    "    grover = Grover(quantum_instance=qinstance)\n",
    "    my_Result = grover.amplify(amplification_problem=my_Problem)\n",
    "    print(my_Result)\n",
    "except MissingOptionalLibraryError as er:\n",
    "    print(f\"There was an error. The error is:\")\n",
    "    print(er)"
   ]
  }
 ],
 "metadata": {
  "kernelspec": {
   "display_name": "Python 3",
   "language": "python",
   "name": "python3"
  },
  "language_info": {
   "codemirror_mode": {
    "name": "ipython",
    "version": 3
   },
   "file_extension": ".py",
   "mimetype": "text/x-python",
   "name": "python",
   "nbconvert_exporter": "python",
   "pygments_lexer": "ipython3",
   "version": "3.11.3"
  },
  "orig_nbformat": 4
 },
 "nbformat": 4,
 "nbformat_minor": 2
}
